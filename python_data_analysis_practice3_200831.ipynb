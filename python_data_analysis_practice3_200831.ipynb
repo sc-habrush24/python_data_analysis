{
 "cells": [
  {
   "cell_type": "code",
   "execution_count": 1,
   "metadata": {},
   "outputs": [],
   "source": [
    "import numpy as np"
   ]
  },
  {
   "cell_type": "code",
   "execution_count": 3,
   "metadata": {},
   "outputs": [],
   "source": [
    "arr = np.arange(1,10)"
   ]
  },
  {
   "cell_type": "code",
   "execution_count": 4,
   "metadata": {},
   "outputs": [
    {
     "data": {
      "text/plain": [
       "array([1, 2, 3, 4, 5, 6, 7, 8, 9])"
      ]
     },
     "execution_count": 4,
     "metadata": {},
     "output_type": "execute_result"
    }
   ],
   "source": [
    "arr"
   ]
  },
  {
   "cell_type": "code",
   "execution_count": 5,
   "metadata": {},
   "outputs": [
    {
     "data": {
      "text/plain": [
       "array([1.        , 1.41421356, 1.73205081, 2.        , 2.23606798,\n",
       "       2.44948974, 2.64575131, 2.82842712, 3.        ])"
      ]
     },
     "execution_count": 5,
     "metadata": {},
     "output_type": "execute_result"
    }
   ],
   "source": [
    "np.sqrt(arr)"
   ]
  },
  {
   "cell_type": "code",
   "execution_count": 6,
   "metadata": {},
   "outputs": [
    {
     "data": {
      "text/plain": [
       "array([0.        , 0.30103   , 0.47712125, 0.60205999, 0.69897   ,\n",
       "       0.77815125, 0.84509804, 0.90308999, 0.95424251])"
      ]
     },
     "execution_count": 6,
     "metadata": {},
     "output_type": "execute_result"
    }
   ],
   "source": [
    "np.log10(arr)"
   ]
  },
  {
   "cell_type": "code",
   "execution_count": 14,
   "metadata": {},
   "outputs": [],
   "source": [
    "x = np.random.randn(8)\n",
    "y = np.random.randn(8)"
   ]
  },
  {
   "cell_type": "code",
   "execution_count": 15,
   "metadata": {},
   "outputs": [
    {
     "data": {
      "text/plain": [
       "array([-0.25067017,  0.17457282,  0.41230208, -0.49765708, -0.03541153,\n",
       "        0.79804813,  0.46314059, -1.45305826])"
      ]
     },
     "execution_count": 15,
     "metadata": {},
     "output_type": "execute_result"
    }
   ],
   "source": [
    "x"
   ]
  },
  {
   "cell_type": "code",
   "execution_count": 16,
   "metadata": {},
   "outputs": [
    {
     "data": {
      "text/plain": [
       "array([ 0.60173623, -0.44565411,  1.30156078,  0.99188982,  0.74983598,\n",
       "       -0.14255862,  0.66513444,  0.39955681])"
      ]
     },
     "execution_count": 16,
     "metadata": {},
     "output_type": "execute_result"
    }
   ],
   "source": [
    "y"
   ]
  },
  {
   "cell_type": "code",
   "execution_count": 17,
   "metadata": {},
   "outputs": [
    {
     "data": {
      "text/plain": [
       "array([0.60173623, 0.17457282, 1.30156078, 0.99188982, 0.74983598,\n",
       "       0.79804813, 0.66513444, 0.39955681])"
      ]
     },
     "execution_count": 17,
     "metadata": {},
     "output_type": "execute_result"
    }
   ],
   "source": [
    "np.maximum(x,y)"
   ]
  },
  {
   "cell_type": "code",
   "execution_count": 18,
   "metadata": {},
   "outputs": [],
   "source": [
    "arr = np.random.randn(5,4)"
   ]
  },
  {
   "cell_type": "code",
   "execution_count": 19,
   "metadata": {},
   "outputs": [
    {
     "data": {
      "text/plain": [
       "array([[-0.32068409,  0.31041937, -2.22564368,  0.35373409],\n",
       "       [ 0.69789171,  1.46395786,  1.57618869,  0.69222409],\n",
       "       [ 0.16601027, -1.96297043, -1.20638065,  0.82685137],\n",
       "       [ 0.70857412,  0.93410093, -0.39001032,  1.91003931],\n",
       "       [ 1.10735111,  1.59987415, -0.25131146,  0.29528017]])"
      ]
     },
     "execution_count": 19,
     "metadata": {},
     "output_type": "execute_result"
    }
   ],
   "source": [
    "arr"
   ]
  },
  {
   "cell_type": "code",
   "execution_count": 20,
   "metadata": {},
   "outputs": [
    {
     "data": {
      "text/plain": [
       "6.285496601676006"
      ]
     },
     "execution_count": 20,
     "metadata": {},
     "output_type": "execute_result"
    }
   ],
   "source": [
    "arr.sum()"
   ]
  },
  {
   "cell_type": "code",
   "execution_count": 21,
   "metadata": {},
   "outputs": [
    {
     "data": {
      "text/plain": [
       "0.3142748300838003"
      ]
     },
     "execution_count": 21,
     "metadata": {},
     "output_type": "execute_result"
    }
   ],
   "source": [
    "arr.mean()"
   ]
  },
  {
   "cell_type": "code",
   "execution_count": 22,
   "metadata": {},
   "outputs": [
    {
     "data": {
      "text/plain": [
       "array([ 2.35914312,  2.34538188, -2.49715742,  4.07812903])"
      ]
     },
     "execution_count": 22,
     "metadata": {},
     "output_type": "execute_result"
    }
   ],
   "source": [
    "arr.sum(axis=0)"
   ]
  },
  {
   "cell_type": "code",
   "execution_count": 23,
   "metadata": {},
   "outputs": [
    {
     "data": {
      "text/plain": [
       "array([-1.88217431,  4.43026235, -2.17648944,  3.16270404,  2.75119396])"
      ]
     },
     "execution_count": 23,
     "metadata": {},
     "output_type": "execute_result"
    }
   ],
   "source": [
    "arr.sum(axis=1)"
   ]
  },
  {
   "cell_type": "code",
   "execution_count": 24,
   "metadata": {
    "scrolled": true
   },
   "outputs": [
    {
     "data": {
      "text/plain": [
       "array([[False,  True, False,  True],\n",
       "       [ True,  True,  True,  True],\n",
       "       [ True, False, False,  True],\n",
       "       [ True,  True, False,  True],\n",
       "       [ True,  True, False,  True]])"
      ]
     },
     "execution_count": 24,
     "metadata": {},
     "output_type": "execute_result"
    }
   ],
   "source": [
    "arr > 0"
   ]
  },
  {
   "cell_type": "code",
   "execution_count": 25,
   "metadata": {},
   "outputs": [
    {
     "data": {
      "text/plain": [
       "14"
      ]
     },
     "execution_count": 25,
     "metadata": {},
     "output_type": "execute_result"
    }
   ],
   "source": [
    "(arr>0).sum()"
   ]
  },
  {
   "cell_type": "code",
   "execution_count": 26,
   "metadata": {},
   "outputs": [],
   "source": [
    "arr = np.random.randn(8)"
   ]
  },
  {
   "cell_type": "code",
   "execution_count": 27,
   "metadata": {},
   "outputs": [
    {
     "data": {
      "text/plain": [
       "array([ 1.23597324,  0.08305554,  0.9181648 , -0.80193367,  0.34558979,\n",
       "        0.20698681, -0.20408333,  0.04005708])"
      ]
     },
     "execution_count": 27,
     "metadata": {},
     "output_type": "execute_result"
    }
   ],
   "source": [
    "arr"
   ]
  },
  {
   "cell_type": "code",
   "execution_count": 28,
   "metadata": {},
   "outputs": [
    {
     "data": {
      "text/plain": [
       "array([-0.80193367, -0.20408333,  0.04005708,  0.08305554,  0.20698681,\n",
       "        0.34558979,  0.9181648 ,  1.23597324])"
      ]
     },
     "execution_count": 28,
     "metadata": {},
     "output_type": "execute_result"
    }
   ],
   "source": [
    "np.sort(arr)"
   ]
  },
  {
   "cell_type": "code",
   "execution_count": 29,
   "metadata": {},
   "outputs": [
    {
     "data": {
      "text/plain": [
       "array([ 1.23597324,  0.9181648 ,  0.34558979,  0.20698681,  0.08305554,\n",
       "        0.04005708, -0.20408333, -0.80193367])"
      ]
     },
     "execution_count": 29,
     "metadata": {},
     "output_type": "execute_result"
    }
   ],
   "source": [
    "np.sort(arr)[::-1]"
   ]
  },
  {
   "cell_type": "code",
   "execution_count": 31,
   "metadata": {},
   "outputs": [],
   "source": [
    "arr = np.random.randn(5,3)"
   ]
  },
  {
   "cell_type": "code",
   "execution_count": 33,
   "metadata": {},
   "outputs": [
    {
     "data": {
      "text/plain": [
       "array([[-1.83639877,  0.82651389, -0.37878965],\n",
       "       [ 0.02892441, -0.12880783,  1.57398566],\n",
       "       [-0.07622251,  0.94332467, -0.13188834],\n",
       "       [ 0.88630368,  0.34614023, -0.68183058],\n",
       "       [ 0.89787487,  0.49746309,  0.06941573]])"
      ]
     },
     "execution_count": 33,
     "metadata": {},
     "output_type": "execute_result"
    }
   ],
   "source": [
    "arr"
   ]
  },
  {
   "cell_type": "code",
   "execution_count": 35,
   "metadata": {},
   "outputs": [
    {
     "data": {
      "text/plain": [
       "array([[-1.83639877, -0.12880783, -0.68183058],\n",
       "       [-0.07622251,  0.34614023, -0.37878965],\n",
       "       [ 0.02892441,  0.49746309, -0.13188834],\n",
       "       [ 0.88630368,  0.82651389,  0.06941573],\n",
       "       [ 0.89787487,  0.94332467,  1.57398566]])"
      ]
     },
     "execution_count": 35,
     "metadata": {},
     "output_type": "execute_result"
    }
   ],
   "source": [
    "np.sort(arr, axis = 0)"
   ]
  },
  {
   "cell_type": "code",
   "execution_count": 37,
   "metadata": {},
   "outputs": [
    {
     "data": {
      "text/plain": [
       "array([[-1.83639877, -0.37878965,  0.82651389],\n",
       "       [-0.12880783,  0.02892441,  1.57398566],\n",
       "       [-0.13188834, -0.07622251,  0.94332467],\n",
       "       [-0.68183058,  0.34614023,  0.88630368],\n",
       "       [ 0.06941573,  0.49746309,  0.89787487]])"
      ]
     },
     "execution_count": 37,
     "metadata": {},
     "output_type": "execute_result"
    }
   ],
   "source": [
    "np.sort(arr, axis =1)"
   ]
  },
  {
   "cell_type": "code",
   "execution_count": 39,
   "metadata": {},
   "outputs": [],
   "source": [
    "large_arr = np.random.randn(150)"
   ]
  },
  {
   "cell_type": "code",
   "execution_count": 40,
   "metadata": {},
   "outputs": [
    {
     "data": {
      "text/plain": [
       "array([ 0.46657158,  1.75441961, -0.40858006, -0.73581335,  0.53220214,\n",
       "        1.29957976,  2.77683187,  0.86157923,  0.63930217, -1.37326782,\n",
       "        0.43606876,  0.69417478, -1.90059233, -0.2491533 , -0.01043802,\n",
       "       -0.40501689,  1.56045828, -1.53931557,  0.99103762, -1.52979133,\n",
       "        0.78582372, -1.37849258, -1.7062819 ,  0.005302  , -0.58964141,\n",
       "       -2.94016415,  0.34790594, -0.93589579, -0.90549607, -0.30012118,\n",
       "       -0.29069265,  0.25968219, -1.29225705,  0.70425571, -0.54117139,\n",
       "        1.69630873, -0.52968271, -0.76685475,  2.18374719,  0.75563945,\n",
       "       -0.33037357,  1.06807509,  0.46503036,  0.77766366, -0.539249  ,\n",
       "       -0.57978578, -0.1322637 ,  0.32954226, -1.7140059 ,  0.84985487,\n",
       "        0.45318596, -2.39745445,  1.00945768,  0.47840069, -0.33984936,\n",
       "       -1.15507387,  1.03525746,  1.44835926,  0.70593426, -0.14438983,\n",
       "        0.28719896, -0.15204114, -0.39618954,  0.27256283,  0.01347543,\n",
       "       -1.11767769, -1.3644724 ,  0.436928  , -1.05346534,  1.28563829,\n",
       "       -0.5775473 , -0.60055262,  0.57440006, -0.31925004,  0.55234487,\n",
       "        1.86746021, -0.96173506, -0.02371235, -0.94066751, -0.60039757,\n",
       "        0.44686802,  0.23663538,  0.36374705, -1.06444477, -0.64656039,\n",
       "       -0.84123112,  0.84365605, -0.60881089,  0.01689234,  2.04329778,\n",
       "       -1.16984267, -1.1489743 , -1.92754234,  0.44057719, -1.98476436,\n",
       "       -1.60004888, -0.9118772 ,  0.19793576, -1.6179513 , -0.97941699,\n",
       "       -1.35669916, -2.51918372, -1.57537631, -0.41430355,  3.08717775,\n",
       "        0.55716707,  0.01865136, -0.88023936,  1.1026085 , -1.02041248,\n",
       "       -1.54926981, -0.40799302, -0.05605675, -0.00541865,  1.06001323,\n",
       "       -1.53006782,  1.7161474 ,  0.50354437,  1.85954488,  1.54436109,\n",
       "        0.2338686 , -0.89885905,  0.1837536 , -1.46339375,  0.143876  ,\n",
       "       -0.23869648, -0.28478085, -0.82089921,  0.04494033,  0.28882606,\n",
       "        1.08427106, -0.95192937,  1.53755648, -1.20925818, -1.2568494 ,\n",
       "       -0.66140234, -0.11018024, -0.17699191, -1.19535527, -0.27740633,\n",
       "        0.59596937,  1.26364279,  1.37231192,  0.95449487, -0.19338248,\n",
       "       -1.20130187,  0.90323869,  1.53365215, -1.70926476,  0.47402705])"
      ]
     },
     "execution_count": 40,
     "metadata": {},
     "output_type": "execute_result"
    }
   ],
   "source": [
    "large_arr"
   ]
  },
  {
   "cell_type": "code",
   "execution_count": 42,
   "metadata": {},
   "outputs": [
    {
     "data": {
      "text/plain": [
       "array([ 3.08717775,  2.77683187,  2.18374719,  2.04329778,  1.86746021,\n",
       "        1.85954488,  1.75441961,  1.7161474 ,  1.69630873,  1.56045828,\n",
       "        1.54436109,  1.53755648,  1.53365215,  1.44835926,  1.37231192,\n",
       "        1.29957976,  1.28563829,  1.26364279,  1.1026085 ,  1.08427106,\n",
       "        1.06807509,  1.06001323,  1.03525746,  1.00945768,  0.99103762,\n",
       "        0.95449487,  0.90323869,  0.86157923,  0.84985487,  0.84365605,\n",
       "        0.78582372,  0.77766366,  0.75563945,  0.70593426,  0.70425571,\n",
       "        0.69417478,  0.63930217,  0.59596937,  0.57440006,  0.55716707,\n",
       "        0.55234487,  0.53220214,  0.50354437,  0.47840069,  0.47402705,\n",
       "        0.46657158,  0.46503036,  0.45318596,  0.44686802,  0.44057719,\n",
       "        0.436928  ,  0.43606876,  0.36374705,  0.34790594,  0.32954226,\n",
       "        0.28882606,  0.28719896,  0.27256283,  0.25968219,  0.23663538,\n",
       "        0.2338686 ,  0.19793576,  0.1837536 ,  0.143876  ,  0.04494033,\n",
       "        0.01865136,  0.01689234,  0.01347543,  0.005302  , -0.00541865,\n",
       "       -0.01043802, -0.02371235, -0.05605675, -0.11018024, -0.1322637 ,\n",
       "       -0.14438983, -0.15204114, -0.17699191, -0.19338248, -0.23869648,\n",
       "       -0.2491533 , -0.27740633, -0.28478085, -0.29069265, -0.30012118,\n",
       "       -0.31925004, -0.33037357, -0.33984936, -0.39618954, -0.40501689,\n",
       "       -0.40799302, -0.40858006, -0.41430355, -0.52968271, -0.539249  ,\n",
       "       -0.54117139, -0.5775473 , -0.57978578, -0.58964141, -0.60039757,\n",
       "       -0.60055262, -0.60881089, -0.64656039, -0.66140234, -0.73581335,\n",
       "       -0.76685475, -0.82089921, -0.84123112, -0.88023936, -0.89885905,\n",
       "       -0.90549607, -0.9118772 , -0.93589579, -0.94066751, -0.95192937,\n",
       "       -0.96173506, -0.97941699, -1.02041248, -1.05346534, -1.06444477,\n",
       "       -1.11767769, -1.1489743 , -1.15507387, -1.16984267, -1.19535527,\n",
       "       -1.20130187, -1.20925818, -1.2568494 , -1.29225705, -1.35669916,\n",
       "       -1.3644724 , -1.37326782, -1.37849258, -1.46339375, -1.52979133,\n",
       "       -1.53006782, -1.53931557, -1.54926981, -1.57537631, -1.60004888,\n",
       "       -1.6179513 , -1.7062819 , -1.70926476, -1.7140059 , -1.90059233,\n",
       "       -1.92754234, -1.98476436, -2.39745445, -2.51918372, -2.94016415])"
      ]
     },
     "execution_count": 42,
     "metadata": {},
     "output_type": "execute_result"
    }
   ],
   "source": [
    "np.sort(large_arr)[::-1]"
   ]
  },
  {
   "cell_type": "code",
   "execution_count": 43,
   "metadata": {},
   "outputs": [
    {
     "data": {
      "text/plain": [
       "1.7161473995681857"
      ]
     },
     "execution_count": 43,
     "metadata": {},
     "output_type": "execute_result"
    }
   ],
   "source": [
    "np.sort(large_arr)[::-1][int(0.05*len(large_arr))]"
   ]
  },
  {
   "cell_type": "code",
   "execution_count": 45,
   "metadata": {},
   "outputs": [],
   "source": [
    "names= np.array([\"Charles\",\"Kilho\",\"Hayoung\",\"Charles\",\"Hayoung\",\"Kilho\",\"Kilho\"])\n",
    "ints = np.array([3,3,3,2,2,1,1,4,4])"
   ]
  },
  {
   "cell_type": "code",
   "execution_count": 47,
   "metadata": {},
   "outputs": [
    {
     "data": {
      "text/plain": [
       "array(['Charles', 'Hayoung', 'Kilho'], dtype='<U7')"
      ]
     },
     "execution_count": 47,
     "metadata": {},
     "output_type": "execute_result"
    }
   ],
   "source": [
    "np.unique(names)"
   ]
  },
  {
   "cell_type": "code",
   "execution_count": 48,
   "metadata": {},
   "outputs": [
    {
     "data": {
      "text/plain": [
       "array([1, 2, 3, 4])"
      ]
     },
     "execution_count": 48,
     "metadata": {},
     "output_type": "execute_result"
    }
   ],
   "source": [
    "np.unique(ints)"
   ]
  }
 ],
 "metadata": {
  "kernelspec": {
   "display_name": "Python 3",
   "language": "python",
   "name": "python3"
  },
  "language_info": {
   "codemirror_mode": {
    "name": "ipython",
    "version": 3
   },
   "file_extension": ".py",
   "mimetype": "text/x-python",
   "name": "python",
   "nbconvert_exporter": "python",
   "pygments_lexer": "ipython3",
   "version": "3.7.7"
  }
 },
 "nbformat": 4,
 "nbformat_minor": 4
}
